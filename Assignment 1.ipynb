{
  "cells": [
    {
      "cell_type": "markdown",
      "metadata": {
        "collapsed": false,
        "id": "XIkxrs2ZO80p"
      },
      "source": [
        "# **Assignment 1**"
      ]
    },
    {
      "cell_type": "markdown",
      "metadata": {
        "id": "RfOuew1jgAK1"
      },
      "source": [
        "## **Team members:**\n",
        "### Mirco Lescart\n",
        "### Freddy Fernandes\n",
        "### Parsa Mastouri Kashani\n",
        "### Arina Sadeghi Khiabanian"
      ]
    },
    {
      "cell_type": "markdown",
      "metadata": {
        "id": "3UuFHQMCfQco"
      },
      "source": [
        "# Task 1\n",
        "First, we install packages and necessary libraries\n",
        "\n",
        "---\n",
        "\n"
      ]
    },
    {
      "cell_type": "code",
      "execution_count": 1,
      "metadata": {
        "id": "FHDH4lzoO80s"
      },
      "outputs": [],
      "source": [
        "import os\n",
        "import shutil\n",
        "import urllib\n",
        "import tarfile\n",
        "import sys\n",
        "\n",
        "import matplotlib.pyplot as plt\n",
        "# data and numerical management packages\n",
        "import pandas as pd\n",
        "import numpy as np\n",
        "import gensim.downloader as gloader\n",
        "\n",
        "# useful during debugging (progress bars)\n",
        "from tqdm import tqdm\n",
        "\n",
        "# typing\n",
        "from typing import List, Callable, Dict"
      ]
    },
    {
      "cell_type": "markdown",
      "metadata": {
        "collapsed": false,
        "id": "IeKsn9QuO80t"
      },
      "source": [
        "## Dataframe creation"
      ]
    },
    {
      "cell_type": "code",
      "execution_count": 2,
      "metadata": {
        "id": "9FcSgYzHO80t"
      },
      "outputs": [],
      "source": [
        "import zipfile\n",
        "\n",
        "data_zip_file_path = 'dependency_treebank.zip'\n",
        "data_output_folder = 'data'\n",
        "\n",
        "with zipfile.ZipFile(data_zip_file_path, 'r') as zip_ref:\n",
        "    zip_ref.extractall(data_output_folder)"
      ]
    },
    {
      "cell_type": "code",
      "execution_count": 3,
      "metadata": {
        "id": "KxFThE2lO80t"
      },
      "outputs": [],
      "source": [
        "directory_path = './data/dependency_treebank'\n",
        "dp_files = [file for file in os.listdir(directory_path) if file.endswith('.dp')]\n",
        "\n",
        "data_frames = []\n",
        "\n",
        "for file in dp_files:\n",
        "    with open(os.path.join(directory_path, file), 'r') as f:\n",
        "        lines = f.readlines()\n",
        "        data = [line.strip().split('\\t')[:2] for line in lines]\n",
        "        df = pd.DataFrame(data, columns=['Word', 'POS'])\n",
        "        df[\"Word\"] = df.Word.str.lower()\n",
        "        df = df[df[\"Word\"] != \"\"]  # drop empty rows\n",
        "        data_frames.append(df)\n",
        "\n",
        "# Create a MultiIndex DataFrame to represent the origin of each row\n",
        "df = pd.concat(data_frames, keys=range(1, 201), names=['Source File'])"
      ]
    },
    {
      "cell_type": "markdown",
      "metadata": {
        "id": "gmcb_MIzovvR"
      },
      "source": [
        "### Split the data to training,validation and test sets"
      ]
    },
    {
      "cell_type": "code",
      "execution_count": 4,
      "metadata": {
        "id": "W-2HKSs_O80u"
      },
      "outputs": [],
      "source": [
        "# Add a \"Split\" column with default values\n",
        "df['Split'] = 'training'\n",
        "\n",
        "df.loc[101:150, 'Split'] = 'validation'\n",
        "df.loc[151:200, 'Split'] = 'test'\n"
      ]
    },
    {
      "cell_type": "code",
      "execution_count": 5,
      "metadata": {
        "colab": {
          "base_uri": "https://localhost:8080/",
          "height": 237
        },
        "id": "eqdAs92IO80u",
        "outputId": "912cee36-aece-4ae3-eb8e-4085093fad5c"
      },
      "outputs": [
        {
          "data": {
            "text/html": [
              "\n",
              "  <div id=\"df-cc71ab57-422b-48de-b6af-86f02fb4b043\" class=\"colab-df-container\">\n",
              "    <div>\n",
              "<style scoped>\n",
              "    .dataframe tbody tr th:only-of-type {\n",
              "        vertical-align: middle;\n",
              "    }\n",
              "\n",
              "    .dataframe tbody tr th {\n",
              "        vertical-align: top;\n",
              "    }\n",
              "\n",
              "    .dataframe thead th {\n",
              "        text-align: right;\n",
              "    }\n",
              "</style>\n",
              "<table border=\"1\" class=\"dataframe\">\n",
              "  <thead>\n",
              "    <tr style=\"text-align: right;\">\n",
              "      <th></th>\n",
              "      <th></th>\n",
              "      <th>Word</th>\n",
              "      <th>POS</th>\n",
              "      <th>Split</th>\n",
              "    </tr>\n",
              "    <tr>\n",
              "      <th>Source File</th>\n",
              "      <th></th>\n",
              "      <th></th>\n",
              "      <th></th>\n",
              "      <th></th>\n",
              "    </tr>\n",
              "  </thead>\n",
              "  <tbody>\n",
              "    <tr>\n",
              "      <th rowspan=\"5\" valign=\"top\">1</th>\n",
              "      <th>0</th>\n",
              "      <td>carnival</td>\n",
              "      <td>NNP</td>\n",
              "      <td>training</td>\n",
              "    </tr>\n",
              "    <tr>\n",
              "      <th>1</th>\n",
              "      <td>cruise</td>\n",
              "      <td>NNP</td>\n",
              "      <td>training</td>\n",
              "    </tr>\n",
              "    <tr>\n",
              "      <th>2</th>\n",
              "      <td>lines</td>\n",
              "      <td>NNP</td>\n",
              "      <td>training</td>\n",
              "    </tr>\n",
              "    <tr>\n",
              "      <th>3</th>\n",
              "      <td>inc.</td>\n",
              "      <td>NNP</td>\n",
              "      <td>training</td>\n",
              "    </tr>\n",
              "    <tr>\n",
              "      <th>4</th>\n",
              "      <td>said</td>\n",
              "      <td>VBD</td>\n",
              "      <td>training</td>\n",
              "    </tr>\n",
              "  </tbody>\n",
              "</table>\n",
              "</div>\n",
              "    <div class=\"colab-df-buttons\">\n",
              "\n",
              "  <div class=\"colab-df-container\">\n",
              "    <button class=\"colab-df-convert\" onclick=\"convertToInteractive('df-cc71ab57-422b-48de-b6af-86f02fb4b043')\"\n",
              "            title=\"Convert this dataframe to an interactive table.\"\n",
              "            style=\"display:none;\">\n",
              "\n",
              "  <svg xmlns=\"http://www.w3.org/2000/svg\" height=\"24px\" viewBox=\"0 -960 960 960\">\n",
              "    <path d=\"M120-120v-720h720v720H120Zm60-500h600v-160H180v160Zm220 220h160v-160H400v160Zm0 220h160v-160H400v160ZM180-400h160v-160H180v160Zm440 0h160v-160H620v160ZM180-180h160v-160H180v160Zm440 0h160v-160H620v160Z\"/>\n",
              "  </svg>\n",
              "    </button>\n",
              "\n",
              "  <style>\n",
              "    .colab-df-container {\n",
              "      display:flex;\n",
              "      gap: 12px;\n",
              "    }\n",
              "\n",
              "    .colab-df-convert {\n",
              "      background-color: #E8F0FE;\n",
              "      border: none;\n",
              "      border-radius: 50%;\n",
              "      cursor: pointer;\n",
              "      display: none;\n",
              "      fill: #1967D2;\n",
              "      height: 32px;\n",
              "      padding: 0 0 0 0;\n",
              "      width: 32px;\n",
              "    }\n",
              "\n",
              "    .colab-df-convert:hover {\n",
              "      background-color: #E2EBFA;\n",
              "      box-shadow: 0px 1px 2px rgba(60, 64, 67, 0.3), 0px 1px 3px 1px rgba(60, 64, 67, 0.15);\n",
              "      fill: #174EA6;\n",
              "    }\n",
              "\n",
              "    .colab-df-buttons div {\n",
              "      margin-bottom: 4px;\n",
              "    }\n",
              "\n",
              "    [theme=dark] .colab-df-convert {\n",
              "      background-color: #3B4455;\n",
              "      fill: #D2E3FC;\n",
              "    }\n",
              "\n",
              "    [theme=dark] .colab-df-convert:hover {\n",
              "      background-color: #434B5C;\n",
              "      box-shadow: 0px 1px 3px 1px rgba(0, 0, 0, 0.15);\n",
              "      filter: drop-shadow(0px 1px 2px rgba(0, 0, 0, 0.3));\n",
              "      fill: #FFFFFF;\n",
              "    }\n",
              "  </style>\n",
              "\n",
              "    <script>\n",
              "      const buttonEl =\n",
              "        document.querySelector('#df-cc71ab57-422b-48de-b6af-86f02fb4b043 button.colab-df-convert');\n",
              "      buttonEl.style.display =\n",
              "        google.colab.kernel.accessAllowed ? 'block' : 'none';\n",
              "\n",
              "      async function convertToInteractive(key) {\n",
              "        const element = document.querySelector('#df-cc71ab57-422b-48de-b6af-86f02fb4b043');\n",
              "        const dataTable =\n",
              "          await google.colab.kernel.invokeFunction('convertToInteractive',\n",
              "                                                    [key], {});\n",
              "        if (!dataTable) return;\n",
              "\n",
              "        const docLinkHtml = 'Like what you see? Visit the ' +\n",
              "          '<a target=\"_blank\" href=https://colab.research.google.com/notebooks/data_table.ipynb>data table notebook</a>'\n",
              "          + ' to learn more about interactive tables.';\n",
              "        element.innerHTML = '';\n",
              "        dataTable['output_type'] = 'display_data';\n",
              "        await google.colab.output.renderOutput(dataTable, element);\n",
              "        const docLink = document.createElement('div');\n",
              "        docLink.innerHTML = docLinkHtml;\n",
              "        element.appendChild(docLink);\n",
              "      }\n",
              "    </script>\n",
              "  </div>\n",
              "\n",
              "\n",
              "<div id=\"df-439f653e-c9f9-42ee-8a9a-eb3657fa244e\">\n",
              "  <button class=\"colab-df-quickchart\" onclick=\"quickchart('df-439f653e-c9f9-42ee-8a9a-eb3657fa244e')\"\n",
              "            title=\"Suggest charts\"\n",
              "            style=\"display:none;\">\n",
              "\n",
              "<svg xmlns=\"http://www.w3.org/2000/svg\" height=\"24px\"viewBox=\"0 0 24 24\"\n",
              "     width=\"24px\">\n",
              "    <g>\n",
              "        <path d=\"M19 3H5c-1.1 0-2 .9-2 2v14c0 1.1.9 2 2 2h14c1.1 0 2-.9 2-2V5c0-1.1-.9-2-2-2zM9 17H7v-7h2v7zm4 0h-2V7h2v10zm4 0h-2v-4h2v4z\"/>\n",
              "    </g>\n",
              "</svg>\n",
              "  </button>\n",
              "\n",
              "<style>\n",
              "  .colab-df-quickchart {\n",
              "      --bg-color: #E8F0FE;\n",
              "      --fill-color: #1967D2;\n",
              "      --hover-bg-color: #E2EBFA;\n",
              "      --hover-fill-color: #174EA6;\n",
              "      --disabled-fill-color: #AAA;\n",
              "      --disabled-bg-color: #DDD;\n",
              "  }\n",
              "\n",
              "  [theme=dark] .colab-df-quickchart {\n",
              "      --bg-color: #3B4455;\n",
              "      --fill-color: #D2E3FC;\n",
              "      --hover-bg-color: #434B5C;\n",
              "      --hover-fill-color: #FFFFFF;\n",
              "      --disabled-bg-color: #3B4455;\n",
              "      --disabled-fill-color: #666;\n",
              "  }\n",
              "\n",
              "  .colab-df-quickchart {\n",
              "    background-color: var(--bg-color);\n",
              "    border: none;\n",
              "    border-radius: 50%;\n",
              "    cursor: pointer;\n",
              "    display: none;\n",
              "    fill: var(--fill-color);\n",
              "    height: 32px;\n",
              "    padding: 0;\n",
              "    width: 32px;\n",
              "  }\n",
              "\n",
              "  .colab-df-quickchart:hover {\n",
              "    background-color: var(--hover-bg-color);\n",
              "    box-shadow: 0 1px 2px rgba(60, 64, 67, 0.3), 0 1px 3px 1px rgba(60, 64, 67, 0.15);\n",
              "    fill: var(--button-hover-fill-color);\n",
              "  }\n",
              "\n",
              "  .colab-df-quickchart-complete:disabled,\n",
              "  .colab-df-quickchart-complete:disabled:hover {\n",
              "    background-color: var(--disabled-bg-color);\n",
              "    fill: var(--disabled-fill-color);\n",
              "    box-shadow: none;\n",
              "  }\n",
              "\n",
              "  .colab-df-spinner {\n",
              "    border: 2px solid var(--fill-color);\n",
              "    border-color: transparent;\n",
              "    border-bottom-color: var(--fill-color);\n",
              "    animation:\n",
              "      spin 1s steps(1) infinite;\n",
              "  }\n",
              "\n",
              "  @keyframes spin {\n",
              "    0% {\n",
              "      border-color: transparent;\n",
              "      border-bottom-color: var(--fill-color);\n",
              "      border-left-color: var(--fill-color);\n",
              "    }\n",
              "    20% {\n",
              "      border-color: transparent;\n",
              "      border-left-color: var(--fill-color);\n",
              "      border-top-color: var(--fill-color);\n",
              "    }\n",
              "    30% {\n",
              "      border-color: transparent;\n",
              "      border-left-color: var(--fill-color);\n",
              "      border-top-color: var(--fill-color);\n",
              "      border-right-color: var(--fill-color);\n",
              "    }\n",
              "    40% {\n",
              "      border-color: transparent;\n",
              "      border-right-color: var(--fill-color);\n",
              "      border-top-color: var(--fill-color);\n",
              "    }\n",
              "    60% {\n",
              "      border-color: transparent;\n",
              "      border-right-color: var(--fill-color);\n",
              "    }\n",
              "    80% {\n",
              "      border-color: transparent;\n",
              "      border-right-color: var(--fill-color);\n",
              "      border-bottom-color: var(--fill-color);\n",
              "    }\n",
              "    90% {\n",
              "      border-color: transparent;\n",
              "      border-bottom-color: var(--fill-color);\n",
              "    }\n",
              "  }\n",
              "</style>\n",
              "\n",
              "  <script>\n",
              "    async function quickchart(key) {\n",
              "      const quickchartButtonEl =\n",
              "        document.querySelector('#' + key + ' button');\n",
              "      quickchartButtonEl.disabled = true;  // To prevent multiple clicks.\n",
              "      quickchartButtonEl.classList.add('colab-df-spinner');\n",
              "      try {\n",
              "        const charts = await google.colab.kernel.invokeFunction(\n",
              "            'suggestCharts', [key], {});\n",
              "      } catch (error) {\n",
              "        console.error('Error during call to suggestCharts:', error);\n",
              "      }\n",
              "      quickchartButtonEl.classList.remove('colab-df-spinner');\n",
              "      quickchartButtonEl.classList.add('colab-df-quickchart-complete');\n",
              "    }\n",
              "    (() => {\n",
              "      let quickchartButtonEl =\n",
              "        document.querySelector('#df-439f653e-c9f9-42ee-8a9a-eb3657fa244e button');\n",
              "      quickchartButtonEl.style.display =\n",
              "        google.colab.kernel.accessAllowed ? 'block' : 'none';\n",
              "    })();\n",
              "  </script>\n",
              "</div>\n",
              "    </div>\n",
              "  </div>\n"
            ],
            "text/plain": [
              "                   Word  POS     Split\n",
              "Source File                           \n",
              "1           0  carnival  NNP  training\n",
              "            1    cruise  NNP  training\n",
              "            2     lines  NNP  training\n",
              "            3      inc.  NNP  training\n",
              "            4      said  VBD  training"
            ]
          },
          "execution_count": 5,
          "metadata": {},
          "output_type": "execute_result"
        }
      ],
      "source": [
        "df.head()"
      ]
    },
    {
      "cell_type": "markdown",
      "metadata": {
        "collapsed": false,
        "id": "8tdwv1AHO80v"
      },
      "source": [
        "# Task 2\n"
      ]
    },
    {
      "cell_type": "markdown",
      "metadata": {
        "collapsed": false,
        "id": "7HdcqDZPO80v"
      },
      "source": [
        "## Length normalisation\n",
        "\n",
        "The inputs must have the same length/dimension. There are two options:\n",
        "- Set all the inputs length to the biggest length, but dimension will maybe be a little too long.\n",
        "- Choose an arbitrary length, but some inputs will be truncated.\n",
        "\n"
      ]
    },
    {
      "cell_type": "code",
      "execution_count": 6,
      "metadata": {
        "colab": {
          "base_uri": "https://localhost:8080/",
          "height": 430
        },
        "id": "7qI1_bykO80v",
        "outputId": "718b6a79-21ef-4062-8d33-ac75ede4b001"
      },
      "outputs": [
        {
          "data": {
            "image/png": "[encoded data removed]",
            "text/plain": [
              "<Figure size 640x480 with 1 Axes>"
            ]
          },
          "metadata": {},
          "output_type": "display_data"
        }
      ],
      "source": [
        "lenghts = [len(df.loc[i][\"Word\"]) for i in range(1, 200)]\n",
        "\n",
        "plt.boxplot(lenghts)\n",
        "plt.ylabel(\"Lenght of the different inputs\")\n",
        "plt.show()\n"
      ]
    },
    {
      "cell_type": "markdown",
      "metadata": {
        "collapsed": false,
        "id": "ox8kC3lWO80w"
      },
      "source": [
        "We can see on the graph that the lengths are too sparse $\\rightarrow$ Work on sentences instead of text."
      ]
    },
    {
      "cell_type": "code",
      "execution_count": 7,
      "metadata": {
        "id": "kQqaq22QO80w"
      },
      "outputs": [],
      "source": [
        "numb_sentences_by_set = {\"training\": 0,\n",
        "                         \"validation\": 0,\n",
        "                         \"test\": 0}\n",
        "\n",
        "sentences_list = []  # list of all sentences [[sentence 1], [sentences 2], ...]\n",
        "pos_list = []\n",
        "\n",
        "sent = []\n",
        "pos = []\n",
        "for i in range(df.shape[0]):\n",
        "    word = df[\"Word\"].iloc[i]\n",
        "    pos_word = df[\"POS\"].iloc[i]\n",
        "\n",
        "    sent.append(word)\n",
        "    pos.append(pos_word)\n",
        "\n",
        "    if pos_word == \".\" or word == \"...\" or word == \";\":\n",
        "        sentences_list.append(sent)\n",
        "        pos_list.append(pos)\n",
        "        sent = []\n",
        "        pos = []\n",
        "        numb_sentences_by_set[df[\"Split\"].iloc[i]] += 1\n",
        "\n",
        "numb_sentences = len(sentences_list)\n",
        "\n"
      ]
    },
    {
      "cell_type": "code",
      "execution_count": 8,
      "metadata": {
        "colab": {
          "base_uri": "https://localhost:8080/"
        },
        "id": "QeXNhkhHO80w",
        "outputId": "23011f73-936a-466f-e614-2afb14878939"
      },
      "outputs": [
        {
          "name": "stdout",
          "output_type": "stream",
          "text": [
            "Number of sentences by set : {'training': 1987, 'validation': 1128, 'test': 946}\n"
          ]
        }
      ],
      "source": [
        "print(f\"Number of sentences by set : {numb_sentences_by_set}\")"
      ]
    },
    {
      "cell_type": "code",
      "execution_count": 9,
      "metadata": {
        "colab": {
          "base_uri": "https://localhost:8080/",
          "height": 430
        },
        "id": "6FSvK7qGO80x",
        "outputId": "eaf38837-d58e-4374-be9c-ab5b009756c5"
      },
      "outputs": [
        {
          "data": {
            "image/png": "[encoded data removed]",
            "text/plain": [
              "<Figure size 640x480 with 1 Axes>"
            ]
          },
          "metadata": {},
          "output_type": "display_data"
        }
      ],
      "source": [
        "lengths_sent = [len(sent) for sent in sentences_list]\n",
        "plt.boxplot(lengths_sent)\n",
        "plt.ylabel(\"Length of the different sentences\")\n",
        "plt.show()"
      ]
    },
    {
      "cell_type": "markdown",
      "metadata": {
        "collapsed": false,
        "id": "mYq2il0uO80x"
      },
      "source": [
        "We can concatenate the sentences in a format of a length of 80\n",
        "\n",
        "So if length<80, then we have to fill the sentence with empty word which will be defined as \"\\BLANK\\\". And if length>80, remove last words."
      ]
    },
    {
      "cell_type": "code",
      "execution_count": 10,
      "metadata": {
        "id": "WO984OSAO80x"
      },
      "outputs": [],
      "source": [
        "def set_length(sentence, target_length):\n",
        "    while len(sentence) < target_length:\n",
        "        sentence.append(\"<pad>\")\n",
        "    return sentence[:target_length]"
      ]
    },
    {
      "cell_type": "markdown",
      "metadata": {
        "id": "xzm4PoTYpsAS"
      },
      "source": [
        "In this cell:\n",
        "\n",
        "1)we Create a new dataframe where each element df.loc[i] is a sentence of length equal to 80\n",
        "\n",
        "2)Create a MultiIndex DataFrame to represent the origin of each row\n"
      ]
    },
    {
      "cell_type": "code",
      "execution_count": 11,
      "metadata": {
        "colab": {
          "base_uri": "https://localhost:8080/"
        },
        "id": "k4VQhrTXqGGF",
        "outputId": "bc3283be-5846-4766-865c-e6aa71046f41"
      },
      "outputs": [
        {
          "name": "stdout",
          "output_type": "stream",
          "text": [
            "Number of sentences = 4061\n"
          ]
        }
      ],
      "source": [
        "max_length = 80\n",
        "\n",
        "data_frames = []\n",
        "for i in range(numb_sentences):\n",
        "    data = {'Word': set_length(sentences_list[i], max_length), 'POS': set_length(pos_list[i], max_length)}\n",
        "\n",
        "    df2 = pd.DataFrame(data)\n",
        "    data_frames.append(df2)\n",
        "print(f\"Number of sentences = {len(data_frames)}\")\n",
        "\n",
        "\n",
        "df = pd.concat(data_frames, keys=range(numb_sentences), names=['Sentences'])\n",
        "\n",
        "# data_frames=[] To not store it (I'm not in computer sciences so idk if it's useful)"
      ]
    },
    {
      "cell_type": "code",
      "execution_count": 12,
      "metadata": {
        "colab": {
          "base_uri": "https://localhost:8080/",
          "height": 455
        },
        "id": "XA30l1HwO80y",
        "outputId": "c0b1eabc-eb6c-4565-e486-ddb99068d2ce"
      },
      "outputs": [
        {
          "data": {
            "text/html": [
              "\n",
              "  <div id=\"df-d68621f5-a293-4653-8d40-ba396e23d2e5\" class=\"colab-df-container\">\n",
              "    <div>\n",
              "<style scoped>\n",
              "    .dataframe tbody tr th:only-of-type {\n",
              "        vertical-align: middle;\n",
              "    }\n",
              "\n",
              "    .dataframe tbody tr th {\n",
              "        vertical-align: top;\n",
              "    }\n",
              "\n",
              "    .dataframe thead th {\n",
              "        text-align: right;\n",
              "    }\n",
              "</style>\n",
              "<table border=\"1\" class=\"dataframe\">\n",
              "  <thead>\n",
              "    <tr style=\"text-align: right;\">\n",
              "      <th></th>\n",
              "      <th></th>\n",
              "      <th>Word</th>\n",
              "      <th>POS</th>\n",
              "    </tr>\n",
              "    <tr>\n",
              "      <th>Sentences</th>\n",
              "      <th></th>\n",
              "      <th></th>\n",
              "      <th></th>\n",
              "    </tr>\n",
              "  </thead>\n",
              "  <tbody>\n",
              "    <tr>\n",
              "      <th rowspan=\"5\" valign=\"top\">0</th>\n",
              "      <th>0</th>\n",
              "      <td>carnival</td>\n",
              "      <td>NNP</td>\n",
              "    </tr>\n",
              "    <tr>\n",
              "      <th>1</th>\n",
              "      <td>cruise</td>\n",
              "      <td>NNP</td>\n",
              "    </tr>\n",
              "    <tr>\n",
              "      <th>2</th>\n",
              "      <td>lines</td>\n",
              "      <td>NNP</td>\n",
              "    </tr>\n",
              "    <tr>\n",
              "      <th>3</th>\n",
              "      <td>inc.</td>\n",
              "      <td>NNP</td>\n",
              "    </tr>\n",
              "    <tr>\n",
              "      <th>4</th>\n",
              "      <td>said</td>\n",
              "      <td>VBD</td>\n",
              "    </tr>\n",
              "    <tr>\n",
              "      <th>...</th>\n",
              "      <th>...</th>\n",
              "      <td>...</td>\n",
              "      <td>...</td>\n",
              "    </tr>\n",
              "    <tr>\n",
              "      <th rowspan=\"5\" valign=\"top\">4060</th>\n",
              "      <th>75</th>\n",
              "      <td>&lt;pad&gt;</td>\n",
              "      <td>&lt;pad&gt;</td>\n",
              "    </tr>\n",
              "    <tr>\n",
              "      <th>76</th>\n",
              "      <td>&lt;pad&gt;</td>\n",
              "      <td>&lt;pad&gt;</td>\n",
              "    </tr>\n",
              "    <tr>\n",
              "      <th>77</th>\n",
              "      <td>&lt;pad&gt;</td>\n",
              "      <td>&lt;pad&gt;</td>\n",
              "    </tr>\n",
              "    <tr>\n",
              "      <th>78</th>\n",
              "      <td>&lt;pad&gt;</td>\n",
              "      <td>&lt;pad&gt;</td>\n",
              "    </tr>\n",
              "    <tr>\n",
              "      <th>79</th>\n",
              "      <td>&lt;pad&gt;</td>\n",
              "      <td>&lt;pad&gt;</td>\n",
              "    </tr>\n",
              "  </tbody>\n",
              "</table>\n",
              "<p>324880 rows × 2 columns</p>\n",
              "</div>\n",
              "    <div class=\"colab-df-buttons\">\n",
              "\n",
              "  <div class=\"colab-df-container\">\n",
              "    <button class=\"colab-df-convert\" onclick=\"convertToInteractive('df-d68621f5-a293-4653-8d40-ba396e23d2e5')\"\n",
              "            title=\"Convert this dataframe to an interactive table.\"\n",
              "            style=\"display:none;\">\n",
              "\n",
              "  <svg xmlns=\"http://www.w3.org/2000/svg\" height=\"24px\" viewBox=\"0 -960 960 960\">\n",
              "    <path d=\"M120-120v-720h720v720H120Zm60-500h600v-160H180v160Zm220 220h160v-160H400v160Zm0 220h160v-160H400v160ZM180-400h160v-160H180v160Zm440 0h160v-160H620v160ZM180-180h160v-160H180v160Zm440 0h160v-160H620v160Z\"/>\n",
              "  </svg>\n",
              "    </button>\n",
              "\n",
              "  <style>\n",
              "    .colab-df-container {\n",
              "      display:flex;\n",
              "      gap: 12px;\n",
              "    }\n",
              "\n",
              "    .colab-df-convert {\n",
              "      background-color: #E8F0FE;\n",
              "      border: none;\n",
              "      border-radius: 50%;\n",
              "      cursor: pointer;\n",
              "      display: none;\n",
              "      fill: #1967D2;\n",
              "      height: 32px;\n",
              "      padding: 0 0 0 0;\n",
              "      width: 32px;\n",
              "    }\n",
              "\n",
              "    .colab-df-convert:hover {\n",
              "      background-color: #E2EBFA;\n",
              "      box-shadow: 0px 1px 2px rgba(60, 64, 67, 0.3), 0px 1px 3px 1px rgba(60, 64, 67, 0.15);\n",
              "      fill: #174EA6;\n",
              "    }\n",
              "\n",
              "    .colab-df-buttons div {\n",
              "      margin-bottom: 4px;\n",
              "    }\n",
              "\n",
              "    [theme=dark] .colab-df-convert {\n",
              "      background-color: #3B4455;\n",
              "      fill: #D2E3FC;\n",
              "    }\n",
              "\n",
              "    [theme=dark] .colab-df-convert:hover {\n",
              "      background-color: #434B5C;\n",
              "      box-shadow: 0px 1px 3px 1px rgba(0, 0, 0, 0.15);\n",
              "      filter: drop-shadow(0px 1px 2px rgba(0, 0, 0, 0.3));\n",
              "      fill: #FFFFFF;\n",
              "    }\n",
              "  </style>\n",
              "\n",
              "    <script>\n",
              "      const buttonEl =\n",
              "        document.querySelector('#df-d68621f5-a293-4653-8d40-ba396e23d2e5 button.colab-df-convert');\n",
              "      buttonEl.style.display =\n",
              "        google.colab.kernel.accessAllowed ? 'block' : 'none';\n",
              "\n",
              "      async function convertToInteractive(key) {\n",
              "        const element = document.querySelector('#df-d68621f5-a293-4653-8d40-ba396e23d2e5');\n",
              "        const dataTable =\n",
              "          await google.colab.kernel.invokeFunction('convertToInteractive',\n",
              "                                                    [key], {});\n",
              "        if (!dataTable) return;\n",
              "\n",
              "        const docLinkHtml = 'Like what you see? Visit the ' +\n",
              "          '<a target=\"_blank\" href=https://colab.research.google.com/notebooks/data_table.ipynb>data table notebook</a>'\n",
              "          + ' to learn more about interactive tables.';\n",
              "        element.innerHTML = '';\n",
              "        dataTable['output_type'] = 'display_data';\n",
              "        await google.colab.output.renderOutput(dataTable, element);\n",
              "        const docLink = document.createElement('div');\n",
              "        docLink.innerHTML = docLinkHtml;\n",
              "        element.appendChild(docLink);\n",
              "      }\n",
              "    </script>\n",
              "  </div>\n",
              "\n",
              "\n",
              "<div id=\"df-40e55389-0349-41da-a8ac-e8efe3c3509e\">\n",
              "  <button class=\"colab-df-quickchart\" onclick=\"quickchart('df-40e55389-0349-41da-a8ac-e8efe3c3509e')\"\n",
              "            title=\"Suggest charts\"\n",
              "            style=\"display:none;\">\n",
              "\n",
              "<svg xmlns=\"http://www.w3.org/2000/svg\" height=\"24px\"viewBox=\"0 0 24 24\"\n",
              "     width=\"24px\">\n",
              "    <g>\n",
              "        <path d=\"M19 3H5c-1.1 0-2 .9-2 2v14c0 1.1.9 2 2 2h14c1.1 0 2-.9 2-2V5c0-1.1-.9-2-2-2zM9 17H7v-7h2v7zm4 0h-2V7h2v10zm4 0h-2v-4h2v4z\"/>\n",
              "    </g>\n",
              "</svg>\n",
              "  </button>\n",
              "\n",
              "<style>\n",
              "  .colab-df-quickchart {\n",
              "      --bg-color: #E8F0FE;\n",
              "      --fill-color: #1967D2;\n",
              "      --hover-bg-color: #E2EBFA;\n",
              "      --hover-fill-color: #174EA6;\n",
              "      --disabled-fill-color: #AAA;\n",
              "      --disabled-bg-color: #DDD;\n",
              "  }\n",
              "\n",
              "  [theme=dark] .colab-df-quickchart {\n",
              "      --bg-color: #3B4455;\n",
              "      --fill-color: #D2E3FC;\n",
              "      --hover-bg-color: #434B5C;\n",
              "      --hover-fill-color: #FFFFFF;\n",
              "      --disabled-bg-color: #3B4455;\n",
              "      --disabled-fill-color: #666;\n",
              "  }\n",
              "\n",
              "  .colab-df-quickchart {\n",
              "    background-color: var(--bg-color);\n",
              "    border: none;\n",
              "    border-radius: 50%;\n",
              "    cursor: pointer;\n",
              "    display: none;\n",
              "    fill: var(--fill-color);\n",
              "    height: 32px;\n",
              "    padding: 0;\n",
              "    width: 32px;\n",
              "  }\n",
              "\n",
              "  .colab-df-quickchart:hover {\n",
              "    background-color: var(--hover-bg-color);\n",
              "    box-shadow: 0 1px 2px rgba(60, 64, 67, 0.3), 0 1px 3px 1px rgba(60, 64, 67, 0.15);\n",
              "    fill: var(--button-hover-fill-color);\n",
              "  }\n",
              "\n",
              "  .colab-df-quickchart-complete:disabled,\n",
              "  .colab-df-quickchart-complete:disabled:hover {\n",
              "    background-color: var(--disabled-bg-color);\n",
              "    fill: var(--disabled-fill-color);\n",
              "    box-shadow: none;\n",
              "  }\n",
              "\n",
              "  .colab-df-spinner {\n",
              "    border: 2px solid var(--fill-color);\n",
              "    border-color: transparent;\n",
              "    border-bottom-color: var(--fill-color);\n",
              "    animation:\n",
              "      spin 1s steps(1) infinite;\n",
              "  }\n",
              "\n",
              "  @keyframes spin {\n",
              "    0% {\n",
              "      border-color: transparent;\n",
              "      border-bottom-color: var(--fill-color);\n",
              "      border-left-color: var(--fill-color);\n",
              "    }\n",
              "    20% {\n",
              "      border-color: transparent;\n",
              "      border-left-color: var(--fill-color);\n",
              "      border-top-color: var(--fill-color);\n",
              "    }\n",
              "    30% {\n",
              "      border-color: transparent;\n",
              "      border-left-color: var(--fill-color);\n",
              "      border-top-color: var(--fill-color);\n",
              "      border-right-color: var(--fill-color);\n",
              "    }\n",
              "    40% {\n",
              "      border-color: transparent;\n",
              "      border-right-color: var(--fill-color);\n",
              "      border-top-color: var(--fill-color);\n",
              "    }\n",
              "    60% {\n",
              "      border-color: transparent;\n",
              "      border-right-color: var(--fill-color);\n",
              "    }\n",
              "    80% {\n",
              "      border-color: transparent;\n",
              "      border-right-color: var(--fill-color);\n",
              "      border-bottom-color: var(--fill-color);\n",
              "    }\n",
              "    90% {\n",
              "      border-color: transparent;\n",
              "      border-bottom-color: var(--fill-color);\n",
              "    }\n",
              "  }\n",
              "</style>\n",
              "\n",
              "  <script>\n",
              "    async function quickchart(key) {\n",
              "      const quickchartButtonEl =\n",
              "        document.querySelector('#' + key + ' button');\n",
              "      quickchartButtonEl.disabled = true;  // To prevent multiple clicks.\n",
              "      quickchartButtonEl.classList.add('colab-df-spinner');\n",
              "      try {\n",
              "        const charts = await google.colab.kernel.invokeFunction(\n",
              "            'suggestCharts', [key], {});\n",
              "      } catch (error) {\n",
              "        console.error('Error during call to suggestCharts:', error);\n",
              "      }\n",
              "      quickchartButtonEl.classList.remove('colab-df-spinner');\n",
              "      quickchartButtonEl.classList.add('colab-df-quickchart-complete');\n",
              "    }\n",
              "    (() => {\n",
              "      let quickchartButtonEl =\n",
              "        document.querySelector('#df-40e55389-0349-41da-a8ac-e8efe3c3509e button');\n",
              "      quickchartButtonEl.style.display =\n",
              "        google.colab.kernel.accessAllowed ? 'block' : 'none';\n",
              "    })();\n",
              "  </script>\n",
              "</div>\n",
              "    </div>\n",
              "  </div>\n"
            ],
            "text/plain": [
              "                  Word    POS\n",
              "Sentences                    \n",
              "0         0   carnival    NNP\n",
              "          1     cruise    NNP\n",
              "          2      lines    NNP\n",
              "          3       inc.    NNP\n",
              "          4       said    VBD\n",
              "...                ...    ...\n",
              "4060      75     <pad>  <pad>\n",
              "          76     <pad>  <pad>\n",
              "          77     <pad>  <pad>\n",
              "          78     <pad>  <pad>\n",
              "          79     <pad>  <pad>\n",
              "\n",
              "[324880 rows x 2 columns]"
            ]
          },
          "execution_count": 12,
          "metadata": {},
          "output_type": "execute_result"
        }
      ],
      "source": [
        "df"
      ]
    },
    {
      "cell_type": "markdown",
      "metadata": {
        "collapsed": false,
        "id": "8arc96rnO80y"
      },
      "source": [
        "## Tokenization"
      ]
    },
    {
      "cell_type": "code",
      "execution_count": 13,
      "metadata": {
        "id": "nvQDLgteO80y"
      },
      "outputs": [],
      "source": [
        "from keras.preprocessing.text import Tokenizer\n",
        "\n",
        "#tokenizer for words \n",
        "word_tokenizer = Tokenizer()\n",
        "word_tokenizer.fit_on_texts(df[\"Word\"])\n",
        "word_encoded = word_tokenizer.texts_to_sequences(df[\"Word\"])\n",
        "\n",
        "#tokenizer for pos\n",
        "pos_tokenizer = Tokenizer()\n",
        "pos_tokenizer.fit_on_texts(df[\"POS\"])\n",
        "pos_encoded = pos_tokenizer.texts_to_sequences(df[\"POS\"])\n"
      ]
    },
    {
      "cell_type": "code",
      "execution_count": 14,
      "metadata": {
        "colab": {
          "base_uri": "https://localhost:8080/"
        },
        "id": "0xuvIIDVO80y",
        "outputId": "0ee539f0-2323-4e77-930f-9531d33a4c57"
      },
      "outputs": [
        {
          "name": "stdout",
          "output_type": "stream",
          "text": [
            "['carnival', 'cruise', 'lines', 'inc.', 'said', 'potential', 'problems', 'with', 'the', 'construction', 'of', 'two', 'big', 'cruise', 'ships', 'from', 'finland', 'have', 'been', 'averted', '.', '<pad>', '<pad>', '<pad>', '<pad>']\n",
            "[[1155], [2056], [1585], [81], [13], [777], [395], [19], [2], [354], [3], [74], [131], [2056], [1586], [20], [2912], [30], [65], [5276], [], [1], [1], [1], [1]]\n",
            "\n",
            "['NNP', 'NNP', 'NNP', 'NNP', 'VBD', 'JJ', 'NNS', 'IN', 'DT', 'NN', 'IN', 'CD', 'JJ', 'NN', 'NNS', 'IN', 'NNP', 'VBP', 'VBN', 'VBN', '.', '<pad>', '<pad>', '<pad>', '<pad>']\n",
            "[[4], [4], [4], [4], [9], [7], [6], [3], [5], [2], [3], [8], [7], [2], [6], [3], [4], [18], [15], [15], [], [1], [1], [1], [1]]\n"
          ]
        }
      ],
      "source": [
        "print(list(df[\"Word\"][:25]))\n",
        "print(word_encoded[:25])\n",
        "print()\n",
        "print(list(df[\"POS\"][:25]))\n",
        "print(pos_encoded[:25])\n"
      ]
    },
    {
      "cell_type": "markdown",
      "metadata": {},
      "source": [
        "We can see the different words being marked as different parts of speech"
      ]
    },
    {
      "cell_type": "markdown",
      "metadata": {
        "collapsed": false,
        "id": "d77WGW8AO80y"
      },
      "source": [
        "The encoder doesn't make a difference between comma, point, etc... Furthermore, the word \"n.v.\" isn't associated to one integer.\n",
        "\n",
        "So $\\rightarrow$ Vocabulary"
      ]
    },
    {
      "cell_type": "code",
      "execution_count": 15,
      "metadata": {
        "id": "FtxFY_MMO80y"
      },
      "outputs": [],
      "source": [
        "from collections import OrderedDict\n",
        "\n",
        "# Function to create a vocabulary mapping of words to indices and vice versa.\n",
        "def build_vocabulary(word_list):\n",
        "    idx_to_word = OrderedDict() # Create an ordered dictionary for index-to-word mapping.\n",
        "    word_to_idx = OrderedDict() # Create an ordered dictionary for word-to-index mapping.\n",
        "\n",
        "    word_to_idx[\"<pad>\"] = 0 # Initialize the dictionary with a padding token.\n",
        "    idx_to_word[0] = \"<pad>\"\n",
        "\n",
        "    curr_idx = 1\n",
        "    for token in tqdm(word_list):\n",
        "        if token not in word_to_idx:\n",
        "            word_to_idx[token] = curr_idx\n",
        "            idx_to_word[curr_idx] = token\n",
        "            curr_idx += 1\n",
        "\n",
        "    word_listing = list(idx_to_word.values())\n",
        "    return idx_to_word, word_to_idx, word_listing"
      ]
    },
    {
      "cell_type": "code",
      "execution_count": 16,
      "metadata": {
        "colab": {
          "base_uri": "https://localhost:8080/"
        },
        "id": "GEyyQt4SO80y",
        "outputId": "8795301a-d4bc-4d81-f39c-9f1993ede6b0"
      },
      "outputs": [
        {
          "name": "stderr",
          "output_type": "stream",
          "text": [
            "100%|██████████| 324880/324880 [00:00<00:00, 1344404.60it/s]"
          ]
        },
        {
          "name": "stdout",
          "output_type": "stream",
          "text": [
            "[Debug] Index -> Word vocabulary size: 10948\n",
            "[Debug] Word -> Index vocabulary size: 10948\n",
            "[Debug] Some words: [('carnival', 1), ('cruise', 2), ('lines', 3), ('inc.', 4), ('said', 5), ('potential', 6), ('problems', 7), ('with', 8), ('the', 9), ('construction', 10)]\n"
          ]
        },
        {
          "name": "stderr",
          "output_type": "stream",
          "text": [
            "\n"
          ]
        }
      ],
      "source": [
        "# Use the function to build vocabularies from a DataFrame column 'Word'.\n",
        "idx_to_word, word_to_idx, word_listing = build_vocabulary(df[\"Word\"])\n",
        "print(f'[Debug] Index -> Word vocabulary size: {len(idx_to_word)}')\n",
        "print(f'[Debug] Word -> Index vocabulary size: {len(word_to_idx)}')\n",
        "print(f'[Debug] Some words: {[(idx_to_word[idx], idx) for idx in np.arange(10) + 1]}')"
      ]
    },
    {
      "cell_type": "code",
      "execution_count": 17,
      "metadata": {
        "colab": {
          "base_uri": "https://localhost:8080/"
        },
        "id": "AYqni86xO80z",
        "outputId": "7eb04acb-845b-4a09-f974-d532b57f7c95"
      },
      "outputs": [
        {
          "name": "stderr",
          "output_type": "stream",
          "text": [
            "100%|██████████| 324880/324880 [00:00<00:00, 1452924.39it/s]"
          ]
        },
        {
          "name": "stdout",
          "output_type": "stream",
          "text": [
            "[Debug] Index -> pos vocabulary size: 46\n",
            "[Debug] pos -> Index vocabulary size: 46\n",
            "[Debug] Some poss: [('NNP', 1), ('VBD', 2), ('JJ', 3), ('NNS', 4), ('IN', 5), ('DT', 6), ('NN', 7), ('CD', 8), ('VBP', 9), ('VBN', 10)]\n"
          ]
        },
        {
          "name": "stderr",
          "output_type": "stream",
          "text": [
            "\n"
          ]
        }
      ],
      "source": [
        "# Use the function to build vocabularies from a DataFrame column 'POS' (Part of Speech).\n",
        "idx_to_pos, pos_to_idx, pos_listing = build_vocabulary(df[\"POS\"])\n",
        "print(f'[Debug] Index -> pos vocabulary size: {len(idx_to_pos)}')\n",
        "print(f'[Debug] pos -> Index vocabulary size: {len(pos_to_idx)}')\n",
        "print(f'[Debug] Some poss: {[(idx_to_pos[idx], idx) for idx in np.arange(10) + 1]}')"
      ]
    },
    {
      "cell_type": "code",
      "execution_count": 18,
      "metadata": {
        "id": "JbpCAx13O80z"
      },
      "outputs": [],
      "source": [
        "# Replace words in the DataFrame with their respective indices.\n",
        "df[\"Word\"] = [word_to_idx[df[\"Word\"].iloc[i]] for i in range(df.shape[0])]\n",
        "# Replace POS tags in the DataFrame with their respective indices.\n",
        "df[\"POS\"] = [pos_to_idx[df[\"POS\"].iloc[i]] for i in range(df.shape[0])]"
      ]
    },
    {
      "cell_type": "code",
      "execution_count": 19,
      "metadata": {
        "colab": {
          "base_uri": "https://localhost:8080/",
          "height": 455
        },
        "id": "CEo6hKRXO80z",
        "outputId": "9b6f139e-1761-4fa0-a3bb-fde67b74daf1"
      },
      "outputs": [
        {
          "data": {
            "text/html": [
              "\n",
              "  <div id=\"df-0da65113-0079-413b-86f1-706c50868898\" class=\"colab-df-container\">\n",
              "    <div>\n",
              "<style scoped>\n",
              "    .dataframe tbody tr th:only-of-type {\n",
              "        vertical-align: middle;\n",
              "    }\n",
              "\n",
              "    .dataframe tbody tr th {\n",
              "        vertical-align: top;\n",
              "    }\n",
              "\n",
              "    .dataframe thead th {\n",
              "        text-align: right;\n",
              "    }\n",
              "</style>\n",
              "<table border=\"1\" class=\"dataframe\">\n",
              "  <thead>\n",
              "    <tr style=\"text-align: right;\">\n",
              "      <th></th>\n",
              "      <th></th>\n",
              "      <th>Word</th>\n",
              "      <th>POS</th>\n",
              "    </tr>\n",
              "    <tr>\n",
              "      <th>Sentences</th>\n",
              "      <th></th>\n",
              "      <th></th>\n",
              "      <th></th>\n",
              "    </tr>\n",
              "  </thead>\n",
              "  <tbody>\n",
              "    <tr>\n",
              "      <th rowspan=\"5\" valign=\"top\">0</th>\n",
              "      <th>0</th>\n",
              "      <td>1</td>\n",
              "      <td>1</td>\n",
              "    </tr>\n",
              "    <tr>\n",
              "      <th>1</th>\n",
              "      <td>2</td>\n",
              "      <td>1</td>\n",
              "    </tr>\n",
              "    <tr>\n",
              "      <th>2</th>\n",
              "      <td>3</td>\n",
              "      <td>1</td>\n",
              "    </tr>\n",
              "    <tr>\n",
              "      <th>3</th>\n",
              "      <td>4</td>\n",
              "      <td>1</td>\n",
              "    </tr>\n",
              "    <tr>\n",
              "      <th>4</th>\n",
              "      <td>5</td>\n",
              "      <td>2</td>\n",
              "    </tr>\n",
              "    <tr>\n",
              "      <th>...</th>\n",
              "      <th>...</th>\n",
              "      <td>...</td>\n",
              "      <td>...</td>\n",
              "    </tr>\n",
              "    <tr>\n",
              "      <th rowspan=\"5\" valign=\"top\">4060</th>\n",
              "      <th>75</th>\n",
              "      <td>0</td>\n",
              "      <td>0</td>\n",
              "    </tr>\n",
              "    <tr>\n",
              "      <th>76</th>\n",
              "      <td>0</td>\n",
              "      <td>0</td>\n",
              "    </tr>\n",
              "    <tr>\n",
              "      <th>77</th>\n",
              "      <td>0</td>\n",
              "      <td>0</td>\n",
              "    </tr>\n",
              "    <tr>\n",
              "      <th>78</th>\n",
              "      <td>0</td>\n",
              "      <td>0</td>\n",
              "    </tr>\n",
              "    <tr>\n",
              "      <th>79</th>\n",
              "      <td>0</td>\n",
              "      <td>0</td>\n",
              "    </tr>\n",
              "  </tbody>\n",
              "</table>\n",
              "<p>324880 rows × 2 columns</p>\n",
              "</div>\n",
              "    <div class=\"colab-df-buttons\">\n",
              "\n",
              "  <div class=\"colab-df-container\">\n",
              "    <button class=\"colab-df-convert\" onclick=\"convertToInteractive('df-0da65113-0079-413b-86f1-706c50868898')\"\n",
              "            title=\"Convert this dataframe to an interactive table.\"\n",
              "            style=\"display:none;\">\n",
              "\n",
              "  <svg xmlns=\"http://www.w3.org/2000/svg\" height=\"24px\" viewBox=\"0 -960 960 960\">\n",
              "    <path d=\"M120-120v-720h720v720H120Zm60-500h600v-160H180v160Zm220 220h160v-160H400v160Zm0 220h160v-160H400v160ZM180-400h160v-160H180v160Zm440 0h160v-160H620v160ZM180-180h160v-160H180v160Zm440 0h160v-160H620v160Z\"/>\n",
              "  </svg>\n",
              "    </button>\n",
              "\n",
              "  <style>\n",
              "    .colab-df-container {\n",
              "      display:flex;\n",
              "      gap: 12px;\n",
              "    }\n",
              "\n",
              "    .colab-df-convert {\n",
              "      background-color: #E8F0FE;\n",
              "      border: none;\n",
              "      border-radius: 50%;\n",
              "      cursor: pointer;\n",
              "      display: none;\n",
              "      fill: #1967D2;\n",
              "      height: 32px;\n",
              "      padding: 0 0 0 0;\n",
              "      width: 32px;\n",
              "    }\n",
              "\n",
              "    .colab-df-convert:hover {\n",
              "      background-color: #E2EBFA;\n",
              "      box-shadow: 0px 1px 2px rgba(60, 64, 67, 0.3), 0px 1px 3px 1px rgba(60, 64, 67, 0.15);\n",
              "      fill: #174EA6;\n",
              "    }\n",
              "\n",
              "    .colab-df-buttons div {\n",
              "      margin-bottom: 4px;\n",
              "    }\n",
              "\n",
              "    [theme=dark] .colab-df-convert {\n",
              "      background-color: #3B4455;\n",
              "      fill: #D2E3FC;\n",
              "    }\n",
              "\n",
              "    [theme=dark] .colab-df-convert:hover {\n",
              "      background-color: #434B5C;\n",
              "      box-shadow: 0px 1px 3px 1px rgba(0, 0, 0, 0.15);\n",
              "      filter: drop-shadow(0px 1px 2px rgba(0, 0, 0, 0.3));\n",
              "      fill: #FFFFFF;\n",
              "    }\n",
              "  </style>\n",
              "\n",
              "    <script>\n",
              "      const buttonEl =\n",
              "        document.querySelector('#df-0da65113-0079-413b-86f1-706c50868898 button.colab-df-convert');\n",
              "      buttonEl.style.display =\n",
              "        google.colab.kernel.accessAllowed ? 'block' : 'none';\n",
              "\n",
              "      async function convertToInteractive(key) {\n",
              "        const element = document.querySelector('#df-0da65113-0079-413b-86f1-706c50868898');\n",
              "        const dataTable =\n",
              "          await google.colab.kernel.invokeFunction('convertToInteractive',\n",
              "                                                    [key], {});\n",
              "        if (!dataTable) return;\n",
              "\n",
              "        const docLinkHtml = 'Like what you see? Visit the ' +\n",
              "          '<a target=\"_blank\" href=https://colab.research.google.com/notebooks/data_table.ipynb>data table notebook</a>'\n",
              "          + ' to learn more about interactive tables.';\n",
              "        element.innerHTML = '';\n",
              "        dataTable['output_type'] = 'display_data';\n",
              "        await google.colab.output.renderOutput(dataTable, element);\n",
              "        const docLink = document.createElement('div');\n",
              "        docLink.innerHTML = docLinkHtml;\n",
              "        element.appendChild(docLink);\n",
              "      }\n",
              "    </script>\n",
              "  </div>\n",
              "\n",
              "\n",
              "<div id=\"df-1cf44ca8-1ac5-490e-831d-470c3d315e70\">\n",
              "  <button class=\"colab-df-quickchart\" onclick=\"quickchart('df-1cf44ca8-1ac5-490e-831d-470c3d315e70')\"\n",
              "            title=\"Suggest charts\"\n",
              "            style=\"display:none;\">\n",
              "\n",
              "<svg xmlns=\"http://www.w3.org/2000/svg\" height=\"24px\"viewBox=\"0 0 24 24\"\n",
              "     width=\"24px\">\n",
              "    <g>\n",
              "        <path d=\"M19 3H5c-1.1 0-2 .9-2 2v14c0 1.1.9 2 2 2h14c1.1 0 2-.9 2-2V5c0-1.1-.9-2-2-2zM9 17H7v-7h2v7zm4 0h-2V7h2v10zm4 0h-2v-4h2v4z\"/>\n",
              "    </g>\n",
              "</svg>\n",
              "  </button>\n",
              "\n",
              "<style>\n",
              "  .colab-df-quickchart {\n",
              "      --bg-color: #E8F0FE;\n",
              "      --fill-color: #1967D2;\n",
              "      --hover-bg-color: #E2EBFA;\n",
              "      --hover-fill-color: #174EA6;\n",
              "      --disabled-fill-color: #AAA;\n",
              "      --disabled-bg-color: #DDD;\n",
              "  }\n",
              "\n",
              "  [theme=dark] .colab-df-quickchart {\n",
              "      --bg-color: #3B4455;\n",
              "      --fill-color: #D2E3FC;\n",
              "      --hover-bg-color: #434B5C;\n",
              "      --hover-fill-color: #FFFFFF;\n",
              "      --disabled-bg-color: #3B4455;\n",
              "      --disabled-fill-color: #666;\n",
              "  }\n",
              "\n",
              "  .colab-df-quickchart {\n",
              "    background-color: var(--bg-color);\n",
              "    border: none;\n",
              "    border-radius: 50%;\n",
              "    cursor: pointer;\n",
              "    display: none;\n",
              "    fill: var(--fill-color);\n",
              "    height: 32px;\n",
              "    padding: 0;\n",
              "    width: 32px;\n",
              "  }\n",
              "\n",
              "  .colab-df-quickchart:hover {\n",
              "    background-color: var(--hover-bg-color);\n",
              "    box-shadow: 0 1px 2px rgba(60, 64, 67, 0.3), 0 1px 3px 1px rgba(60, 64, 67, 0.15);\n",
              "    fill: var(--button-hover-fill-color);\n",
              "  }\n",
              "\n",
              "  .colab-df-quickchart-complete:disabled,\n",
              "  .colab-df-quickchart-complete:disabled:hover {\n",
              "    background-color: var(--disabled-bg-color);\n",
              "    fill: var(--disabled-fill-color);\n",
              "    box-shadow: none;\n",
              "  }\n",
              "\n",
              "  .colab-df-spinner {\n",
              "    border: 2px solid var(--fill-color);\n",
              "    border-color: transparent;\n",
              "    border-bottom-color: var(--fill-color);\n",
              "    animation:\n",
              "      spin 1s steps(1) infinite;\n",
              "  }\n",
              "\n",
              "  @keyframes spin {\n",
              "    0% {\n",
              "      border-color: transparent;\n",
              "      border-bottom-color: var(--fill-color);\n",
              "      border-left-color: var(--fill-color);\n",
              "    }\n",
              "    20% {\n",
              "      border-color: transparent;\n",
              "      border-left-color: var(--fill-color);\n",
              "      border-top-color: var(--fill-color);\n",
              "    }\n",
              "    30% {\n",
              "      border-color: transparent;\n",
              "      border-left-color: var(--fill-color);\n",
              "      border-top-color: var(--fill-color);\n",
              "      border-right-color: var(--fill-color);\n",
              "    }\n",
              "    40% {\n",
              "      border-color: transparent;\n",
              "      border-right-color: var(--fill-color);\n",
              "      border-top-color: var(--fill-color);\n",
              "    }\n",
              "    60% {\n",
              "      border-color: transparent;\n",
              "      border-right-color: var(--fill-color);\n",
              "    }\n",
              "    80% {\n",
              "      border-color: transparent;\n",
              "      border-right-color: var(--fill-color);\n",
              "      border-bottom-color: var(--fill-color);\n",
              "    }\n",
              "    90% {\n",
              "      border-color: transparent;\n",
              "      border-bottom-color: var(--fill-color);\n",
              "    }\n",
              "  }\n",
              "</style>\n",
              "\n",
              "  <script>\n",
              "    async function quickchart(key) {\n",
              "      const quickchartButtonEl =\n",
              "        document.querySelector('#' + key + ' button');\n",
              "      quickchartButtonEl.disabled = true;  // To prevent multiple clicks.\n",
              "      quickchartButtonEl.classList.add('colab-df-spinner');\n",
              "      try {\n",
              "        const charts = await google.colab.kernel.invokeFunction(\n",
              "            'suggestCharts', [key], {});\n",
              "      } catch (error) {\n",
              "        console.error('Error during call to suggestCharts:', error);\n",
              "      }\n",
              "      quickchartButtonEl.classList.remove('colab-df-spinner');\n",
              "      quickchartButtonEl.classList.add('colab-df-quickchart-complete');\n",
              "    }\n",
              "    (() => {\n",
              "      let quickchartButtonEl =\n",
              "        document.querySelector('#df-1cf44ca8-1ac5-490e-831d-470c3d315e70 button');\n",
              "      quickchartButtonEl.style.display =\n",
              "        google.colab.kernel.accessAllowed ? 'block' : 'none';\n",
              "    })();\n",
              "  </script>\n",
              "</div>\n",
              "    </div>\n",
              "  </div>\n"
            ],
            "text/plain": [
              "              Word  POS\n",
              "Sentences              \n",
              "0         0      1    1\n",
              "          1      2    1\n",
              "          2      3    1\n",
              "          3      4    1\n",
              "          4      5    2\n",
              "...            ...  ...\n",
              "4060      75     0    0\n",
              "          76     0    0\n",
              "          77     0    0\n",
              "          78     0    0\n",
              "          79     0    0\n",
              "\n",
              "[324880 rows x 2 columns]"
            ]
          },
          "execution_count": 19,
          "metadata": {},
          "output_type": "execute_result"
        }
      ],
      "source": [
        "df"
      ]
    },
    {
      "cell_type": "markdown",
      "metadata": {
        "collapsed": false,
        "id": "RIrFfhn4O80z"
      },
      "source": [
        "### Split\n",
        "**Store in numpy array to avoid an error**"
      ]
    },
    {
      "cell_type": "code",
      "execution_count": 20,
      "metadata": {
        "id": "3PnFS4CQO80z"
      },
      "outputs": [],
      "source": [
        "from keras.utils import to_categorical\n",
        "\n",
        "# Extracting word and POS tags and converting them to numpy arrays.\n",
        "X = np.array([df.Word.loc[i] for i in range(numb_sentences)])\n",
        "Y = np.array([df.POS.loc[i] for i in range(numb_sentences)])\n",
        "\n",
        "# Converting the POS tags to one-hot encoded format.\n",
        "Y = to_categorical(Y)"
      ]
    },
    {
      "cell_type": "code",
      "execution_count": 21,
      "metadata": {
        "colab": {
          "base_uri": "https://localhost:8080/"
        },
        "id": "4s5NIVAFO80z",
        "outputId": "95cf5c7e-4e65-41d1-86bb-c5c93f6932d4"
      },
      "outputs": [
        {
          "data": {
            "text/plain": [
              "{'training': 1987, 'validation': 1128, 'test': 946}"
            ]
          },
          "execution_count": 21,
          "metadata": {},
          "output_type": "execute_result"
        }
      ],
      "source": [
        "numb_sentences_by_set"
      ]
    },
    {
      "cell_type": "code",
      "execution_count": 22,
      "metadata": {
        "id": "vx7BXj4mO800"
      },
      "outputs": [],
      "source": [
        "# Splitting the dataset into training, validation, and test sets based on predefined counts.\n",
        "train_end = numb_sentences_by_set[\"training\"]\n",
        "validation_end = train_end + numb_sentences_by_set[\"validation\"]\n",
        "test_end = validation_end + numb_sentences_by_set[\"test\"]\n",
        "\n",
        "# Creating training, validation, and test datasets.\n",
        "X_train, Y_train = X[0:train_end], Y[0:train_end]\n",
        "\n",
        "X_validation, Y_validation = X[train_end: validation_end], Y[train_end: validation_end]\n",
        "\n",
        "X_test, Y_test = X[validation_end: test_end], Y[validation_end: test_end]\n"
      ]
    },
    {
      "cell_type": "code",
      "execution_count": 23,
      "metadata": {
        "colab": {
          "base_uri": "https://localhost:8080/"
        },
        "id": "DsB7utMJO800",
        "outputId": "a9580c02-397e-4bf7-8ffa-708b8a070706"
      },
      "outputs": [
        {
          "name": "stdout",
          "output_type": "stream",
          "text": [
            "TRAINING DATA\n",
            "Shape of input sequences: (1987, 80)\n",
            "Shape of output sequences: (1987, 80, 46)\n",
            "--------------------------------------------------\n",
            "VALIDATION DATA\n",
            "Shape of input sequences: (1128, 80)\n",
            "Shape of output sequences: (1128, 80, 46)\n",
            "--------------------------------------------------\n",
            "TESTING DATA\n",
            "Shape of input sequences: (946, 80)\n",
            "Shape of output sequences: (946, 80, 46)\n"
          ]
        }
      ],
      "source": [
        "# Printing the shapes of the input and output sequences for each dataset.\n",
        "print(\"TRAINING DATA\")\n",
        "print('Shape of input sequences: {}'.format(X_train.shape))\n",
        "print('Shape of output sequences: {}'.format(Y_train.shape))\n",
        "print(\"-\" * 50)\n",
        "print(\"VALIDATION DATA\")\n",
        "print('Shape of input sequences: {}'.format(X_validation.shape))\n",
        "print('Shape of output sequences: {}'.format(Y_validation.shape))\n",
        "print(\"-\" * 50)\n",
        "print(\"TESTING DATA\")\n",
        "print('Shape of input sequences: {}'.format(X_test.shape))\n",
        "print('Shape of output sequences: {}'.format(Y_test.shape))"
      ]
    },
    {
      "cell_type": "markdown",
      "metadata": {
        "collapsed": false,
        "id": "IXv2XrlKO800"
      },
      "source": []
    },
    {
      "cell_type": "markdown",
      "metadata": {
        "collapsed": false,
        "id": "MQecF1XeO800"
      },
      "source": [
        "## GloVe embeddings"
      ]
    },
    {
      "cell_type": "code",
      "execution_count": 24,
      "metadata": {
        "id": "0fuvytclO800"
      },
      "outputs": [],
      "source": [
        "# Taken from Lab 2\n",
        "\n",
        "import gensim\n",
        "import gensim.downloader as gloader\n",
        "\n",
        "def load_embedding_model(model_type: str,\n",
        "                         embedding_dimension: int = 50) -> gensim.models.keyedvectors.KeyedVectors:\n",
        "    \"\"\"\n",
        "    Loads a pre-trained word embedding model via gensim library.\n",
        "\n",
        "    :param model_type: name of the word embedding model to load.\n",
        "    :param embedding_dimension: size of the embedding space to consider\n",
        "\n",
        "    :return\n",
        "        - pre-trained word embedding model (gensim KeyedVectors object)\n",
        "    \"\"\"\n",
        "    download_path = \"\"\n",
        "    if model_type.strip().lower() == 'word2vec':\n",
        "        download_path = \"word2vec-google-news-300\"\n",
        "\n",
        "    elif model_type.strip().lower() == 'glove':\n",
        "        download_path = \"glove-wiki-gigaword-{}\".format(embedding_dimension)\n",
        "    elif model_type.strip().lower() == 'fasttext':\n",
        "        download_path = \"fasttext-wiki-news-subwords-300\"\n",
        "    else:\n",
        "        raise AttributeError(\"Unsupported embedding model type! Available ones: word2vec, glove, fasttext\")\n",
        "\n",
        "    try:\n",
        "        emb_model = gloader.load(download_path)\n",
        "    except ValueError as e:\n",
        "        print(\"Invalid embedding model name! Check the embedding dimension:\")\n",
        "        print(\"Word2Vec: 300\")\n",
        "        print(\"Glove: 50, 100, 200, 300\")\n",
        "        print('FastText: 300')\n",
        "        raise e\n",
        "\n",
        "    return emb_model"
      ]
    },
    {
      "cell_type": "code",
      "execution_count": 25,
      "metadata": {
        "colab": {
          "base_uri": "https://localhost:8080/"
        },
        "id": "iapXwAyzO800",
        "outputId": "2f6d5eea-9c02-4b00-91f0-c7c8e5e0fae8"
      },
      "outputs": [
        {
          "name": "stdout",
          "output_type": "stream",
          "text": [
            "[==================================================] 100.0% 128.1/128.1MB downloaded\n"
          ]
        }
      ],
      "source": [
        "embedding_dimension = 100\n",
        "embedding_model = load_embedding_model(model_type=\"glove\",\n",
        "                                       embedding_dimension=embedding_dimension)"
      ]
    },
    {
      "cell_type": "code",
      "execution_count": 26,
      "metadata": {
        "id": "16DVhkQ3O801"
      },
      "outputs": [],
      "source": [
        "voc_size = len(word_listing)\n",
        "\n",
        "# create an empty embedding matrix\n",
        "embedding_weights = np.zeros((voc_size, embedding_dimension))\n",
        "\n",
        "# copy vectors from glove model to the words present in corpus\n",
        "for word, index in word_to_idx.items():\n",
        "    try:\n",
        "        embedding_weights[index, :] = embedding_model[word]\n",
        "    except KeyError:\n",
        "        pass"
      ]
    },
    {
      "cell_type": "markdown",
      "metadata": {
        "collapsed": false,
        "id": "I34WLA4mO801"
      },
      "source": [
        "### OOV Words\n",
        "\n",
        "Check if the pre-trained embedding cover enough of our vocab"
      ]
    },
    {
      "cell_type": "code",
      "execution_count": 27,
      "metadata": {
        "colab": {
          "base_uri": "https://localhost:8080/"
        },
        "id": "7d85CV4dO801",
        "outputId": "9d2e09ed-7f1d-464b-8375-cd7847f2a50c"
      },
      "outputs": [
        {
          "name": "stdout",
          "output_type": "stream",
          "text": [
            "Total number of words: 324880\n",
            "Vocabulary size: 10948\n"
          ]
        }
      ],
      "source": [
        "print(\"Total number of words: {}\".format(len(df[\"Word\"])))\n",
        "print(\"Vocabulary size: {}\".format(len(word_listing)))"
      ]
    },
    {
      "cell_type": "code",
      "execution_count": 28,
      "metadata": {
        "colab": {
          "base_uri": "https://localhost:8080/"
        },
        "id": "HripbeQZO801",
        "outputId": "be11f9b8-b1e8-43f0-f4c0-08fec04dcfe8"
      },
      "outputs": [
        {
          "name": "stderr",
          "output_type": "stream",
          "text": [
            "100%|██████████| 165920/165920 [00:00<00:00, 3471176.99it/s]"
          ]
        },
        {
          "name": "stdout",
          "output_type": "stream",
          "text": [
            "Total OOV terms: 367 (5.16%)\n"
          ]
        },
        {
          "name": "stderr",
          "output_type": "stream",
          "text": [
            "\n"
          ]
        }
      ],
      "source": [
        "# Taken from Lab 2\n",
        "def check_OOV_terms(embedding_model, word_listing):\n",
        "    embedding_vocabulary = set(embedding_model.key_to_index.keys())\n",
        "    oov = set(word_listing).difference(embedding_vocabulary)\n",
        "    return list(oov)\n",
        "\n",
        "\n",
        "# TODO : only check for OOV in the validation and test set\n",
        "word_listing_val_test = [idx_to_word[word] for word in df.loc[train_end:, \"Word\"]]\n",
        "word_listing_val_test = build_vocabulary(word_listing_val_test)[2]\n",
        "\n",
        "oov_terms = check_OOV_terms(embedding_model, word_listing_val_test)\n",
        "oov_percentage = float(len(oov_terms)) * 100 / len(word_listing_val_test)\n",
        "print(f\"Total OOV terms: {len(oov_terms)} ({oov_percentage:.2f}%)\")\n",
        "\n"
      ]
    },
    {
      "cell_type": "markdown",
      "metadata": {
        "id": "w3U3CHde9MZk"
      },
      "source": [
        "**In this code,we tried to assign a static embedding and also print the number of words without Glove embedding**"
      ]
    },
    {
      "cell_type": "code",
      "execution_count": 29,
      "metadata": {
        "colab": {
          "base_uri": "https://localhost:8080/"
        },
        "id": "SC3sETHfyZrv",
        "outputId": "83d7ed92-0af6-4fea-be8a-4271adb47e5e"
      },
      "outputs": [
        {
          "name": "stderr",
          "output_type": "stream",
          "text": [
            "100%|██████████| 165920/165920 [00:00<00:00, 3435957.93it/s]\n"
          ]
        },
        {
          "name": "stdout",
          "output_type": "stream",
          "text": [
            "Number of words that have no GloVe embedding: 677\n"
          ]
        }
      ],
      "source": [
        "embedding_weights = np.zeros((voc_size, embedding_model.vector_size))\n",
        "\n",
        "for word, index in word_to_idx.items():\n",
        "    try:\n",
        "        embedding_weights[index, :] = embedding_model[word]\n",
        "    except KeyError:\n",
        "        embedding_weights[index, :] = np.random.uniform(-0.25, 0.25, embedding_model.vector_size)\n",
        "\n",
        "# Only check for OOV in the validation and test set\n",
        "word_listing_val_test = [idx_to_word[word] for word in df.loc[train_end:, \"Word\"]]\n",
        "word_listing_val_test = build_vocabulary(word_listing_val_test)[2]\n",
        "\n",
        "# Handle OOV terms by assigning a static embedding\n",
        "for word in word_listing_val_test:\n",
        "    if word not in word_to_idx:\n",
        "        # Assign a special token (e.g., [UNK]) and a static embedding\n",
        "        word_to_idx[word] = len(word_to_idx)\n",
        "        embedding_weights = np.vstack([embedding_weights, np.random.uniform(-0.25, 0.25, embedding_model.vector_size)])\n",
        "\n",
        "# Additional processing for words with embeddings and without embeddings\n",
        "words_with_embeddings = set()\n",
        "\n",
        "for word in word_listing_val_test:\n",
        "    if word not in word_to_idx:\n",
        "        word_to_idx[word] = len(word_to_idx)\n",
        "        embedding_weights = np.vstack([embedding_weights, np.random.uniform(-0.25, 0.25, embedding_model.vector_size)])\n",
        "\n",
        "for word, index in word_to_idx.items():\n",
        "    try:\n",
        "        embedding_weights[index, :] = embedding_model[word]\n",
        "        words_with_embeddings.add(word)\n",
        "    except KeyError:\n",
        "        embedding_weights[index, :] = np.random.uniform(-0.25, 0.25, embedding_model.vector_size)\n",
        "\n",
        "# Calculate words without GloVe embeddings\n",
        "words_without_embeddings = set(word_to_idx.keys()) - words_with_embeddings\n",
        "num_words_without_embeddings = len(words_without_embeddings)\n",
        "print(f\"Number of words that have no GloVe embedding: {num_words_without_embeddings}\")\n",
        "\n",
        "\n",
        "\n",
        "\n",
        "\n",
        "\n",
        "\n",
        "\n"
      ]
    },
    {
      "cell_type": "markdown",
      "metadata": {
        "collapsed": false,
        "id": "dIva67TVO802"
      },
      "source": [
        "# Task 3\n",
        "\n",
        "## Models"
      ]
    },
    {
      "cell_type": "code",
      "execution_count": 30,
      "metadata": {
        "id": "ewdGgUdQnkrb"
      },
      "outputs": [],
      "source": [
        "from keras.models import Sequential\n",
        "from keras.layers import Embedding, Bidirectional, LSTM, Dense, TimeDistributed\n",
        "\n",
        "NUM_CLASSES = Y.shape[2]  # Number of different value of POS\n",
        "\n",
        "# Stores all the models\n",
        "models = {\"baseline\" : [], \"model1\" : [], \"model2\" : []}"
      ]
    },
    {
      "cell_type": "code",
      "execution_count": 31,
      "metadata": {
        "id": "2Ci3tT92O802"
      },
      "outputs": [],
      "source": [
        "# Get model w.r.t the model's name; it can be baseline, model1 or model2\n",
        "def get_model(model_name):\n",
        "    if model_name not in (\"baseline\", \"model1\", \"model2\"):\n",
        "        raise ValueError\n",
        "\n",
        "    model = Sequential()\n",
        "    model.add(Embedding(input_dim=voc_size,\n",
        "                                    output_dim=embedding_dimension, input_length=max_length, weights=[embedding_weights],              trainable=True,\n",
        "\n",
        "    ))\n",
        "    model.add(Bidirectional(LSTM(64, return_sequences=True)))\n",
        "\n",
        "    if model_name == \"model1\":\n",
        "        model.add(LSTM(NUM_CLASSES, return_sequences=True))  # Additional LSTM layer\n",
        "    elif model_name == \"model2\":\n",
        "        model.add(Dense(NUM_CLASSES, activation='relu'))  # Additional Dense layer\n",
        "\n",
        "    model.add(TimeDistributed(Dense(NUM_CLASSES, activation='softmax')))\n",
        "\n",
        "    model.compile(loss='categorical_crossentropy', optimizer='adam', metrics=['accuracy'])\n",
        "    return model\n"
      ]
    },
    {
      "cell_type": "markdown",
      "metadata": {
        "collapsed": false,
        "id": "AvuUAs1eO803"
      },
      "source": [
        "# Task 4"
      ]
    },
    {
      "cell_type": "code",
      "execution_count": 32,
      "metadata": {
        "id": "XMMEPfMVO803"
      },
      "outputs": [],
      "source": [
        "import pandas as pd\n",
        "import numpy as np\n",
        "from sklearn.metrics import confusion_matrix, ConfusionMatrixDisplay\n",
        "\n",
        "# Assume you have pos_to_idx and idx_to_pos dictionaries already defined\n",
        "def metrics_by_pos(model, X=X_validation, Y=Y_validation, include_confusion_matrix=False):\n",
        "    real = np.argmax(Y, axis=2)\n",
        "\n",
        "    # Same for Y_pred\n",
        "    Y_pred = model.predict(X, verbose=False)\n",
        "    pred = np.argmax(Y_pred, axis=2)\n",
        "\n",
        "    # FILTER : Remove blank and punctuation\n",
        "    pos_to_remove = [pos_to_idx[pos] for pos in (\"<pad>\", \",\", \".\", \"''\", \"``\", \":\")]\n",
        "    pred = [pred[i][j] for i in range(len(real)) for j in range(len(real[0])) if real[i][j] not in pos_to_remove]\n",
        "    real = [real[i][j] for i in range(len(real)) for j in range(len(real[0])) if real[i][j] not in pos_to_remove]\n",
        "\n",
        "    # Create a list to store information about values, occurrences, and accuracies\n",
        "    summary_data = []\n",
        "\n",
        "    # Find unique values in Y_test\n",
        "    unique_values = np.unique(real)\n",
        "\n",
        "    # Iterate through each unique value\n",
        "    for value in unique_values:\n",
        "        occurrence = np.sum(real == value)\n",
        "\n",
        "        TP = np.sum((real == value) & (pred == value))\n",
        "        FP = np.sum((real != value) & (pred == value))\n",
        "        FN = np.sum((real == value) & (pred != value))\n",
        "\n",
        "        precision = TP / (TP + FP) if (TP + FP) > 0 else 0\n",
        "        recall = TP / (TP + FN) if (TP + FN) > 0 else 0\n",
        "        f1_score = 2 * (precision * recall) / (precision + recall) if (precision + recall) > 0 else 0\n",
        "\n",
        "        summary_data.append([value, idx_to_pos[value], occurrence, precision, recall, f1_score])\n",
        "\n",
        "    summary_df = pd.DataFrame(summary_data, columns=['Value', 'Word', 'Occurrence', 'Precision', 'Recall', 'F1-score'])\n",
        "\n",
        "    cm=None\n",
        "    if include_confusion_matrix:\n",
        "        cm = confusion_matrix(real, pred, labels=unique_values)\n",
        "\n",
        "    return (summary_df, cm, unique_values)\n",
        "\n",
        "\n"
      ]
    },
    {
      "cell_type": "markdown",
      "metadata": {
        "collapsed": false,
        "id": "YTTbHmRIO803"
      },
      "source": [
        "# Task 5\n",
        "## Training"
      ]
    },
    {
      "cell_type": "code",
      "execution_count": 33,
      "metadata": {
        "colab": {
          "base_uri": "https://localhost:8080/"
        },
        "id": "jYKSXeJMnkrc",
        "outputId": "88bb7247-c54d-4880-a96c-d8f06bbb1e14"
      },
      "outputs": [
        {
          "name": "stdout",
          "output_type": "stream",
          "text": [
            "Seed 1 done\n",
            "Seed 2 done\n",
            "Seed 3 done\n"
          ]
        }
      ],
      "source": [
        "models_name = [\"baseline\", \"model1\", \"model2\"]\n",
        "\n",
        "# Three random seeds\n",
        "seeds = [1, 2, 3]\n",
        "\n",
        "# Initialize a dictionary to hold the training histories for each model\n",
        "training_history = {name: [] for name in models_name}\n",
        "\n",
        "# Initialize a dictionary to hold the models themselves\n",
        "models = {name: [] for name in models_name}\n",
        "\n",
        "for seed in seeds:\n",
        "    np.random.seed(seed)\n",
        "\n",
        "    for name in models_name:\n",
        "        # Get the model using the get_model function\n",
        "        model = get_model(name)\n",
        "\n",
        "        # Fit the model\n",
        "        fit = model.fit(X_train, Y_train, batch_size=128, epochs=15, validation_data=(X_validation, Y_validation), verbose=False)\n",
        "\n",
        "        # Save the history of validation accuracy among all epochs for the current model\n",
        "        training_history[name].append(fit.history)\n",
        "\n",
        "        # Save the trained model\n",
        "        models[name].append(model)\n",
        "\n",
        "    print(f\"Seed {seed} done\")\n",
        "\n"
      ]
    },
    {
      "cell_type": "markdown",
      "metadata": {
        "collapsed": false,
        "id": "UcD9uqu7O803"
      },
      "source": [
        "## Evaluation"
      ]
    },
    {
      "cell_type": "markdown",
      "metadata": {
        "collapsed": false,
        "id": "2MdvrFJVO803"
      },
      "source": [
        "### Accuracy & Comparison of the models for each seed"
      ]
    },
    {
      "cell_type": "code",
      "execution_count": 34,
      "metadata": {
        "colab": {
          "base_uri": "https://localhost:8080/"
        },
        "id": "MuCWS5olnkrd",
        "outputId": "2d414df8-7ab3-4c41-8566-a9ab8239ece8"
      },
      "outputs": [
        {
          "name": "stdout",
          "output_type": "stream",
          "text": [
            "baseline : Accuracy : mean =  0.96 and std =  0.001\n",
            "model1 : Accuracy : mean =  0.90 and std =  0.003\n",
            "model2 : Accuracy : mean =  0.96 and std =  0.002\n"
          ]
        }
      ],
      "source": [
        "for model in training_history:\n",
        "    final_val_accuracy = []\n",
        "    for seed in range(len(seeds)):\n",
        "        accuracy = training_history[model][seed][\"val_accuracy\"][-1]\n",
        "        final_val_accuracy.append(accuracy)\n",
        "\n",
        "    print(f\"{model} : Accuracy : mean = {np.mean(final_val_accuracy): .2f} and std = {np.std(final_val_accuracy): .3f}\")\n"
      ]
    },
    {
      "cell_type": "code",
      "execution_count": 35,
      "metadata": {
        "colab": {
          "base_uri": "https://localhost:8080/",
          "height": 1000
        },
        "id": "hKNpwcAPO804",
        "outputId": "4e096719-0a8f-4977-a8e1-58250725aab7",
        "pycharm": {
          "is_executing": true
        }
      },
      "outputs": [
        {
          "data": {
            "image/png": "[encoded data removed]",
            "text/plain": [
              "<Figure size 640x480 with 1 Axes>"
            ]
          },
          "metadata": {},
          "output_type": "display_data"
        },
        {
          "data": {
            "image/png": "[encoded data removed]",
            "text/plain": [
              "<Figure size 640x480 with 1 Axes>"
            ]
          },
          "metadata": {},
          "output_type": "display_data"
        },
        {
          "data": {
            "image/png": "[encoded data removed]",
            "text/plain": [
              "<Figure size 640x480 with 1 Axes>"
            ]
          },
          "metadata": {},
          "output_type": "display_data"
        }
      ],
      "source": [
        "for seed in range(len(seeds)):\n",
        "    for model in training_history:\n",
        "        accuracy = training_history[model][seed][\"val_accuracy\"]\n",
        "        plt.plot(range(len(accuracy)), accuracy, label=model)\n",
        "\n",
        "    # Set common labels and title\n",
        "    plt.xlabel(\"Iterations\")\n",
        "    plt.ylabel(\"Accuracy\")\n",
        "    plt.title(f\"Validation Accuracy Comparison : Seed {seeds[seed]}\")\n",
        "\n",
        "    # Add legend\n",
        "    plt.legend()\n",
        "\n",
        "    # Show the plot\n",
        "    plt.show()\n"
      ]
    },
    {
      "cell_type": "markdown",
      "metadata": {
        "collapsed": false,
        "id": "XZJlgSXQO804"
      },
      "source": [
        "### Other metrics\n"
      ]
    },
    {
      "cell_type": "code",
      "execution_count": 36,
      "metadata": {
        "colab": {
          "base_uri": "https://localhost:8080/"
        },
        "id": "TNsefJfOuu1V",
        "outputId": "d9ed864c-ec9d-431e-9789-3229e4a24e75"
      },
      "outputs": [
        {
          "name": "stdout",
          "output_type": "stream",
          "text": [
            "The best overall model is 'model2' with a validation accuracy of 0.96\n"
          ]
        }
      ],
      "source": [
        "# Dictionary to hold all the details of each model\n",
        "model_details = {}\n",
        "\n",
        "for model_name in models_name:\n",
        "    # Find the index of the seed with the best mean validation accuracy for this model\n",
        "    seed_accuracies = [training_history[model_name][i][\"val_accuracy\"][-1] for i in range(len(seeds))]\n",
        "    best_seed_index = np.argmax(seed_accuracies)\n",
        "\n",
        "    # Store the best model details\n",
        "    model_details[model_name] = {\n",
        "        \"model\": models[model_name][best_seed_index],\n",
        "        \"history\": training_history[model_name][best_seed_index],\n",
        "        \"mean_val_accuracy\": np.mean(seed_accuracies),\n",
        "        \"std_val_accuracy\": np.std(seed_accuracies),\n",
        "        \"best_val_accuracy\": seed_accuracies[best_seed_index]\n",
        "    }\n",
        "\n",
        "#  The overall best model across all types\n",
        "best_overall_model_name = max(model_details, key=lambda m: model_details[m][\"mean_val_accuracy\"])\n",
        "best_overall_model_details = model_details[best_overall_model_name]\n",
        "\n",
        "print(f\"The best overall model is '{best_overall_model_name}' with a validation accuracy of {best_overall_model_details['mean_val_accuracy']:.2f}\")\n",
        "\n",
        "# Save the best overall model details in a separate variable\n",
        "best_model_variable = best_overall_model_details\n"
      ]
    },
    {
      "cell_type": "code",
      "execution_count": 37,
      "metadata": {
        "id": "duOtkoWpO804"
      },
      "outputs": [],
      "source": [
        "#Best Model Metrics\n",
        "best_model = best_model_variable['model']\n",
        "\n",
        "metrics_val_best_model = metrics_by_pos(best_model, X=X_validation, Y=Y_validation, include_confusion_matrix=True)\n",
        "metrics_test_best_model = metrics_by_pos(best_model, X=X_test, Y=Y_test, include_confusion_matrix=True)\n"
      ]
    },
    {
      "cell_type": "markdown",
      "metadata": {
        "collapsed": false,
        "id": "4kScH4MBO804"
      },
      "source": [
        "#### Confusion Matrix\n",
        "\n",
        "Here is a heatmap representation of the confusion matrix. You can choose if the matrix will be sorted by occurence of the POS or not. I think its better sorted because we don't care about a POS who appears really rarely.\n"
      ]
    },
    {
      "cell_type": "code",
      "execution_count": 38,
      "metadata": {
        "id": "i06YUikSO804"
      },
      "outputs": [],
      "source": [
        "import seaborn as sn\n",
        "import matplotlib.pyplot as plt\n",
        "\n",
        "def cm_heatmap(cm, size, title='Confusion Matrix', out_file=False, sorted=False, show=True):\n",
        "    occurrence = cm.sum(axis=1, keepdims=True)\n",
        "    lab = [idx_to_pos[val] for val in  metrics_val_best_model[2]]\n",
        "\n",
        "    if sorted:\n",
        "        # Sort the confusion matrix by the number of occurrence of the POS\n",
        "        sorted_indices = np.argsort(occurrence, axis=0)[::-1].flatten()\n",
        "        cm = cm[sorted_indices, :]\n",
        "        cm = cm[:, sorted_indices]\n",
        "        occurrence = occurrence[sorted_indices]\n",
        "\n",
        "        lab = [lab[ind] for ind in sorted_indices]\n",
        "\n",
        "\n",
        "    cm = cm/occurrence\n",
        "    cm = cm[:size, :size] # Resize the confusion_matrix\n",
        "\n",
        "    # Adjust the size of the heatmap\n",
        "    plt.figure(figsize=(12, 7))\n",
        "\n",
        "    # Set the font scale for both axis labels and annotations\n",
        "    sn.set(font_scale=1.2)\n",
        "\n",
        "    # Create the heatmap with annotations\n",
        "    lab = lab[:size]\n",
        "    sn.heatmap(cm, annot=True, cmap=\"Blues\", cbar=False, annot_kws={\"size\": 5}, fmt='.1%', xticklabels=lab, yticklabels=lab)\n",
        "\n",
        "\n",
        "    # Add row sums at the end of each row\n",
        "    plt.text(size+1, size//2, \"Occurence\", va='center', ha='left', color='black', fontsize=12, rotation=270)\n",
        "\n",
        "    for i, row_sum in enumerate(occurrence[:size]):\n",
        "        plt.text(size, i+0.5, str(row_sum[0]), va='center', ha='left', color='black', fontsize=8)\n",
        "\n",
        "    # Set axis labels and title\n",
        "    plt.xlabel('Predicted Label')\n",
        "    plt.ylabel('True Label')\n",
        "    plt.title(title)\n",
        "    plt.yticks(fontsize=8)\n",
        "    plt.xticks(fontsize=8)\n",
        "\n",
        "    # Save the heatmap as an image\n",
        "    if out_file:\n",
        "        plt.savefig(out_file, dpi=200)\n",
        "\n",
        "    # Display the heatmap\n",
        "    if show:\n",
        "        plt.show()\n"
      ]
    },
    {
      "cell_type": "code",
      "execution_count": 39,
      "metadata": {
        "colab": {
          "base_uri": "https://localhost:8080/",
          "height": 461
        },
        "id": "H5G2pPdY8nPC",
        "outputId": "852e95b6-4dbc-4c78-df11-5c8095625dc1"
      },
      "outputs": [
        {
          "data": {
            "image/png": "[encoded data removed]",
            "text/plain": [
              "<Figure size 1200x700 with 1 Axes>"
            ]
          },
          "metadata": {},
          "output_type": "display_data"
        },
        {
          "data": {
            "text/plain": [
              "<Figure size 640x480 with 0 Axes>"
            ]
          },
          "metadata": {},
          "output_type": "display_data"
        }
      ],
      "source": [
        "# Confusion Matrix\n",
        "cm_heatmap(cm=metrics_val_best_model[1], size=15, title=\"Confusion Matrix - Best Model (Validation)\", sorted=True, show=True)\n",
        "\n",
        "plt.savefig(\"best_model_cm_validation.png\", dpi=200)\n",
        "# Display the first plot and clear the plotting area for the next plot\n",
        "plt.show()\n"
      ]
    },
    {
      "cell_type": "code",
      "execution_count": 40,
      "metadata": {
        "colab": {
          "base_uri": "https://localhost:8080/",
          "height": 489
        },
        "id": "h0D4H6rs9rhZ",
        "outputId": "4143867e-bd62-4bab-d545-b85bb3633032"
      },
      "outputs": [
        {
          "data": {
            "image/png": "[encoded data removed]",
            "text/plain": [
              "<Figure size 1200x700 with 1 Axes>"
            ]
          },
          "metadata": {},
          "output_type": "display_data"
        }
      ],
      "source": [
        "# Create a new figure for the F1-Score Plot\n",
        "plt.figure(figsize=(12, 7))\n",
        "plt.plot(metrics_val_best_model[0][\"Word\"], metrics_val_best_model[0][\"F1-score\"], label=\"Best Model\")\n",
        "plt.title('F1-score - Best Model (Validation)')\n",
        "plt.xlabel('POS')\n",
        "plt.ylabel('F1-score')\n",
        "plt.xticks(rotation=90, fontsize=8)\n",
        "plt.legend()\n",
        "\n",
        "# Save the plot\n",
        "plt.savefig(\"best_model_f1_score_validation.png\", dpi=200)\n",
        "\n",
        "# Display the second plot\n",
        "plt.show()\n"
      ]
    },
    {
      "cell_type": "code",
      "execution_count": 41,
      "metadata": {
        "colab": {
          "base_uri": "https://localhost:8080/"
        },
        "id": "_lWW5-gfO805",
        "outputId": "475b80b7-9cb5-4983-b3e9-1a670f55174b",
        "pycharm": {
          "is_executing": true
        }
      },
      "outputs": [
        {
          "name": "stdout",
          "output_type": "stream",
          "text": [
            "     Word  F1-score_val  F1-score_test   F1-diff\n",
            "0     NNP      0.821601       0.814242 -0.007359\n",
            "1     VBD      0.795071       0.811908  0.016837\n",
            "2      JJ      0.746225       0.775673  0.029448\n",
            "3     NNS      0.867925       0.843158 -0.024767\n",
            "4      IN      0.959569       0.951234 -0.008335\n",
            "5      DT      0.986152       0.983598 -0.002554\n",
            "6      NN      0.845015       0.847052  0.002037\n",
            "7      CD      0.940645       0.932184 -0.008461\n",
            "8     VBP      0.757021       0.736475 -0.020546\n",
            "9     VBN      0.651543       0.643863 -0.007679\n",
            "10   NNPS      0.000000       0.000000  0.000000\n",
            "11    WDT      0.652850       0.647059 -0.005791\n",
            "12    VBZ      0.896382       0.884368 -0.012013\n",
            "13    VBG      0.659767       0.666667  0.006900\n",
            "14    POS      0.948177       0.927273 -0.020904\n",
            "15     TO      0.999182       0.998935 -0.000247\n",
            "16     VB      0.792829       0.812834  0.020006\n",
            "17     MD      0.977860       0.983683  0.005823\n",
            "18     RP      0.000000       0.000000  0.000000\n",
            "19    PRP      0.967332       0.978482  0.011150\n",
            "20     RB      0.777843       0.732962 -0.044880\n",
            "21     CC      0.984568       0.988743  0.004175\n",
            "22   PRP$      0.977391       0.996610  0.019219\n",
            "23    JJR      0.412556       0.382716 -0.029840\n",
            "24    JJS      0.000000       0.000000  0.000000\n",
            "25      $      1.000000       0.997613 -0.002387\n",
            "26    WP$      0.000000       0.000000  0.000000\n",
            "27    RBR      0.000000       0.000000  0.000000\n",
            "28     EX      0.000000       0.000000  0.000000\n",
            "29     WP      0.791946       0.683544 -0.108402\n",
            "30  -LRB-      0.000000       0.000000  0.000000\n",
            "31  -RRB-      0.000000       0.000000  0.000000\n",
            "32    WRB      0.000000       0.000000  0.000000\n",
            "33    PDT      0.000000       0.000000  0.000000\n",
            "34    RBS      0.000000       0.000000  0.000000\n",
            "35     LS      0.000000       0.000000  0.000000\n"
          ]
        }
      ],
      "source": [
        "# Function to compare F1-scores remains the same\n",
        "def compare_f1_scores(metrics_val, metrics_test):\n",
        "    comparison_df = pd.merge(metrics_val[0], metrics_test[0], on=\"Word\", suffixes=('_val', '_test'))\n",
        "    comparison_df['F1-diff'] = comparison_df['F1-score_test'] - comparison_df['F1-score_val']\n",
        "    return comparison_df\n",
        "\n",
        "# Compare F1-scores for the best model\n",
        "comparison_best_model = compare_f1_scores(metrics_val_best_model, metrics_test_best_model)\n",
        "\n",
        "# Print out the comparison DataFrame\n",
        "print(comparison_best_model[['Word', 'F1-score_val', 'F1-score_test', 'F1-diff']])\n"
      ]
    },
    {
      "cell_type": "markdown",
      "metadata": {},
      "source": [
        "# Results: Our Model 2 performance is the best among the ones tested. The F1-scores seem good across most of the categories"
      ]
    },
    {
      "cell_type": "markdown",
      "metadata": {},
      "source": []
    }
  ],
  "metadata": {
    "accelerator": "GPU",
    "colab": {
      "gpuType": "T4",
      "provenance": []
    },
    "kernelspec": {
      "display_name": "Python 3",
      "name": "python3"
    },
    "language_info": {
      "codemirror_mode": {
        "name": "ipython",
        "version": 2
      },
      "file_extension": ".py",
      "mimetype": "text/x-python",
      "name": "python",
      "nbconvert_exporter": "python",
      "pygments_lexer": "ipython2",
      "version": "2.7.6"
    }
  },
  "nbformat": 4,
  "nbformat_minor": 0
}
